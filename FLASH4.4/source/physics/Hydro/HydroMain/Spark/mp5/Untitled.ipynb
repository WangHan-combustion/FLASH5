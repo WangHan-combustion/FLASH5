{
 "cells": [
  {
   "cell_type": "code",
   "execution_count": 1,
   "metadata": {
    "collapsed": true
   },
   "outputs": [],
   "source": [
    "import numpy as np\n",
    "import matplotlib.pyplot as plt\n",
    "%matplotlib inline"
   ]
  },
  {
   "cell_type": "code",
   "execution_count": 2,
   "metadata": {
    "collapsed": true
   },
   "outputs": [],
   "source": [
    "def minmod(a,b):\n",
    "    return 0.5*(np.sign(a) + np.sign(b))*np.minimum(np.abs(a), np.abs(b))"
   ]
  },
  {
   "cell_type": "code",
   "execution_count": 3,
   "metadata": {
    "collapsed": true
   },
   "outputs": [],
   "source": [
    "def median(a,b,c):\n",
    "    return a + minmod(b-a,c-a)"
   ]
  },
  {
   "cell_type": "code",
   "execution_count": 4,
   "metadata": {
    "collapsed": false
   },
   "outputs": [],
   "source": [
    "def mp5(U):\n",
    "    i = 2\n",
    "    alpha = 4.\n",
    "    uplus  = (2.*U[i-2] - 13.*U[i-1] + 47.*U[i] + 27.*U[i+1] - 3.*U[i+2])/60.\n",
    "    uminus = (2.*U[i+2] - 13.*U[i+1] + 47.*U[i] + 27.*U[i-1] - 3.*U[i-2])/60.    \n",
    "    delp = U[i+1] - U[i]\n",
    "    delm = U[i] - U[i-1]\n",
    "    ump = U[i] + minmod(delp, alpha*delm)\n",
    "    if ((uplus-U[i])*(uplus-ump) > 1e-10):\n",
    "        d2m = U[i-2] - 2.*U[i-1] + U[i]\n",
    "        d2  = U[i-1] - 2.*U[i]   + U[i+1]\n",
    "        d2p = U[i]   - 2.*U[i+1] + U[i+2]\n",
    "        d2mp= minmod(minmod(4.*d2-d2p, 4*d2p-d2), minmod(d2, d2p))\n",
    "        d2mm= minmod(minmod(4.*d2m-d2, 4*d2-d2m), minmod(d2m, d2))\n",
    "        uul = U[i] + alpha*delm\n",
    "        umd = 0.5*(U[i] + U[i+1]) - 0.5*d2mp\n",
    "        ulc = U[i] + 0.5*delm + 4./3.*d2mm\n",
    "        umin = np.maximum(np.amin([U[i], U[i+1], umd]), np.amin([U[i], uul, ulc]))\n",
    "        umax = np.minimum(np.amax([U[i], U[i+1], umd]), np.amax([U[i], uul, ulc]))\n",
    "        uplus = median(umin, uplus, umax)        \n",
    "    ump = U[i] + minmod(-delm, -alpha*delp)\n",
    "    if ((uminus-U[i])*(uminus-ump) > 1e-10):\n",
    "        d2m = U[i+2] - 2.*U[i+1] + U[i]\n",
    "        d2  = U[i+1] - 2.*U[i]   + U[i-1]\n",
    "        d2p = U[i]   - 2.*U[i-1] + U[i-2]\n",
    "        d2mp= minmod(minmod(4.*d2-d2p, 4*d2p-d2), minmod(d2, d2p))\n",
    "        d2mm= minmod(minmod(4.*d2m-d2, 4*d2-d2m), minmod(d2m, d2))\n",
    "        uul = U[i] - alpha*delp\n",
    "        umd = 0.5*(U[i] + U[i-1]) - 0.5*d2mp\n",
    "        ulc = U[i] - 0.5*delp + 4./3.*d2mm\n",
    "        umin = np.maximum(np.amin([U[i], U[i-1], umd]), np.amin([U[i], uul, ulc]))\n",
    "        umax = np.minimum(np.amax([U[i], U[i-1], umd]), np.amax([U[i], uul, ulc]))\n",
    "        uminus = median(umin, uminus, umax)        \n",
    "        print (umin, uminus, umax)\n",
    "    return uplus, uminus"
   ]
  },
  {
   "cell_type": "code",
   "execution_count": 5,
   "metadata": {
    "collapsed": true
   },
   "outputs": [],
   "source": [
    "def parab(x):\n",
    "    return x*x"
   ]
  },
  {
   "cell_type": "code",
   "execution_count": 6,
   "metadata": {
    "collapsed": false
   },
   "outputs": [
    {
     "name": "stdout",
     "output_type": "stream",
     "text": [
      "2.0 2.0 2.0\n"
     ]
    },
    {
     "data": {
      "text/plain": [
       "[<matplotlib.lines.Line2D at 0x104a16940>]"
      ]
     },
     "execution_count": 6,
     "metadata": {},
     "output_type": "execute_result"
    },
    {
     "data": {
      "image/png": "[encoded data removed]",
      "text/plain": [
       "<matplotlib.figure.Figure at 0x1079c66a0>"
      ]
     },
     "metadata": {},
     "output_type": "display_data"
    }
   ],
   "source": [
    "x = [-2., -1, 0., 1., 2.]\n",
    "U = [0., 0., 2., 2., 2.]\n",
    "rec = mp5(U)\n",
    "plt.plot(x,U,marker='s')\n",
    "plt.plot(0.5, rec[0], marker='o')\n",
    "plt.plot(-0.5, rec[1], marker='o')"
   ]
  },
  {
   "cell_type": "code",
   "execution_count": null,
   "metadata": {
    "collapsed": true
   },
   "outputs": [],
   "source": []
  }
 ],
 "metadata": {
  "kernelspec": {
   "display_name": "Python 3",
   "language": "python",
   "name": "python3"
  },
  "language_info": {
   "codemirror_mode": {
    "name": "ipython",
    "version": 3
   },
   "file_extension": ".py",
   "mimetype": "text/x-python",
   "name": "python",
   "nbconvert_exporter": "python",
   "pygments_lexer": "ipython3",
   "version": "3.6.0"
  }
 },
 "nbformat": 4,
 "nbformat_minor": 2
}
